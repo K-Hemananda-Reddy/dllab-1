{
  "nbformat": 4,
  "nbformat_minor": 0,
  "metadata": {
    "colab": {
      "provenance": []
    },
    "kernelspec": {
      "name": "python3",
      "display_name": "Python 3"
    },
    "language_info": {
      "name": "python"
    }
  },
  "cells": [
    {
      "cell_type": "code",
      "source": [
        "pip install scikeras"
      ],
      "metadata": {
        "colab": {
          "base_uri": "https://localhost:8080/"
        },
        "id": "_JVRu5NriHl7",
        "outputId": "2a94e6ad-c25a-4123-f4ad-c414dfc3f71b"
      },
      "execution_count": null,
      "outputs": [
        {
          "output_type": "stream",
          "name": "stdout",
          "text": [
            "Collecting scikeras\n",
            "  Downloading scikeras-0.11.0-py3-none-any.whl (27 kB)\n",
            "Requirement already satisfied: packaging>=0.21 in /usr/local/lib/python3.10/dist-packages (from scikeras) (23.1)\n",
            "Requirement already satisfied: scikit-learn>=1.0.0 in /usr/local/lib/python3.10/dist-packages (from scikeras) (1.2.2)\n",
            "Requirement already satisfied: numpy>=1.17.3 in /usr/local/lib/python3.10/dist-packages (from scikit-learn>=1.0.0->scikeras) (1.23.5)\n",
            "Requirement already satisfied: scipy>=1.3.2 in /usr/local/lib/python3.10/dist-packages (from scikit-learn>=1.0.0->scikeras) (1.11.2)\n",
            "Requirement already satisfied: joblib>=1.1.1 in /usr/local/lib/python3.10/dist-packages (from scikit-learn>=1.0.0->scikeras) (1.3.2)\n",
            "Requirement already satisfied: threadpoolctl>=2.0.0 in /usr/local/lib/python3.10/dist-packages (from scikit-learn>=1.0.0->scikeras) (3.2.0)\n",
            "Installing collected packages: scikeras\n",
            "Successfully installed scikeras-0.11.0\n"
          ]
        }
      ]
    },
    {
      "cell_type": "code",
      "execution_count": null,
      "metadata": {
        "colab": {
          "base_uri": "https://localhost:8080/"
        },
        "id": "qb24CUnMhzwv",
        "outputId": "f61ab0a9-0134-4d8f-d907-5e2448c0c629"
      },
      "outputs": [
        {
          "output_type": "stream",
          "name": "stdout",
          "text": [
            "Fitting 3 folds for each of 9 candidates, totalling 27 fits\n"
          ]
        },
        {
          "output_type": "stream",
          "name": "stderr",
          "text": [
            "/usr/local/lib/python3.10/dist-packages/scikeras/wrappers.py:915: UserWarning: ``build_fn`` will be renamed to ``model`` in a future release, at which point use of ``build_fn`` will raise an Error instead.\n",
            "  X, y = self._initialize(X, y)\n"
          ]
        },
        {
          "output_type": "stream",
          "name": "stdout",
          "text": [
            "Epoch 1/5\n",
            "8/8 [==============================] - 1s 4ms/step - loss: 1.1118 - accuracy: 0.3500\n",
            "Epoch 2/5\n",
            "8/8 [==============================] - 0s 3ms/step - loss: 0.9111 - accuracy: 0.6750\n",
            "Epoch 3/5\n",
            "8/8 [==============================] - 0s 4ms/step - loss: 0.8190 - accuracy: 0.7750\n",
            "Epoch 4/5\n",
            "8/8 [==============================] - 0s 3ms/step - loss: 0.7679 - accuracy: 0.7375\n",
            "Epoch 5/5\n",
            "8/8 [==============================] - 0s 3ms/step - loss: 0.7117 - accuracy: 0.7500\n",
            "4/4 [==============================] - 0s 3ms/step\n",
            "Epoch 1/5\n"
          ]
        },
        {
          "output_type": "stream",
          "name": "stderr",
          "text": [
            "/usr/local/lib/python3.10/dist-packages/scikeras/wrappers.py:915: UserWarning: ``build_fn`` will be renamed to ``model`` in a future release, at which point use of ``build_fn`` will raise an Error instead.\n",
            "  X, y = self._initialize(X, y)\n"
          ]
        },
        {
          "output_type": "stream",
          "name": "stdout",
          "text": [
            "8/8 [==============================] - 1s 2ms/step - loss: 2.9606 - accuracy: 0.3375\n",
            "Epoch 2/5\n",
            "8/8 [==============================] - 0s 3ms/step - loss: 1.8688 - accuracy: 0.3375\n",
            "Epoch 3/5\n",
            "8/8 [==============================] - 0s 4ms/step - loss: 1.2011 - accuracy: 0.4000\n",
            "Epoch 4/5\n",
            "8/8 [==============================] - 0s 3ms/step - loss: 1.0125 - accuracy: 0.5750\n",
            "Epoch 5/5\n",
            "8/8 [==============================] - 0s 2ms/step - loss: 0.9740 - accuracy: 0.3625\n",
            "4/4 [==============================] - 0s 3ms/step\n",
            "Epoch 1/5\n"
          ]
        },
        {
          "output_type": "stream",
          "name": "stderr",
          "text": [
            "/usr/local/lib/python3.10/dist-packages/scikeras/wrappers.py:915: UserWarning: ``build_fn`` will be renamed to ``model`` in a future release, at which point use of ``build_fn`` will raise an Error instead.\n",
            "  X, y = self._initialize(X, y)\n"
          ]
        },
        {
          "output_type": "stream",
          "name": "stdout",
          "text": [
            "8/8 [==============================] - 1s 2ms/step - loss: 1.2142 - accuracy: 0.3750\n",
            "Epoch 2/5\n",
            "8/8 [==============================] - 0s 2ms/step - loss: 0.9930 - accuracy: 0.3500\n",
            "Epoch 3/5\n",
            "8/8 [==============================] - 0s 3ms/step - loss: 0.8842 - accuracy: 0.7125\n",
            "Epoch 4/5\n",
            "8/8 [==============================] - 0s 3ms/step - loss: 0.7905 - accuracy: 0.7500\n",
            "Epoch 5/5\n",
            "8/8 [==============================] - 0s 2ms/step - loss: 0.7122 - accuracy: 0.8375\n",
            "4/4 [==============================] - 0s 3ms/step\n",
            "Epoch 1/5\n"
          ]
        },
        {
          "output_type": "stream",
          "name": "stderr",
          "text": [
            "/usr/local/lib/python3.10/dist-packages/scikeras/wrappers.py:915: UserWarning: ``build_fn`` will be renamed to ``model`` in a future release, at which point use of ``build_fn`` will raise an Error instead.\n",
            "  X, y = self._initialize(X, y)\n"
          ]
        },
        {
          "output_type": "stream",
          "name": "stdout",
          "text": [
            "8/8 [==============================] - 1s 3ms/step - loss: 1.1538 - accuracy: 0.2250\n",
            "Epoch 2/5\n",
            "8/8 [==============================] - 0s 2ms/step - loss: 0.9257 - accuracy: 0.5250\n",
            "Epoch 3/5\n",
            "8/8 [==============================] - 0s 3ms/step - loss: 0.8515 - accuracy: 0.6750\n",
            "Epoch 4/5\n",
            "8/8 [==============================] - 0s 3ms/step - loss: 0.7771 - accuracy: 0.7375\n",
            "Epoch 5/5\n",
            "8/8 [==============================] - 0s 2ms/step - loss: 0.7123 - accuracy: 0.8750\n",
            "4/4 [==============================] - 0s 3ms/step\n",
            "Epoch 1/5\n"
          ]
        },
        {
          "output_type": "stream",
          "name": "stderr",
          "text": [
            "/usr/local/lib/python3.10/dist-packages/scikeras/wrappers.py:915: UserWarning: ``build_fn`` will be renamed to ``model`` in a future release, at which point use of ``build_fn`` will raise an Error instead.\n",
            "  X, y = self._initialize(X, y)\n"
          ]
        },
        {
          "output_type": "stream",
          "name": "stdout",
          "text": [
            "8/8 [==============================] - 1s 3ms/step - loss: 0.9982 - accuracy: 0.6625\n",
            "Epoch 2/5\n",
            "8/8 [==============================] - 0s 3ms/step - loss: 0.7263 - accuracy: 0.8875\n",
            "Epoch 3/5\n",
            "8/8 [==============================] - 0s 3ms/step - loss: 0.6066 - accuracy: 0.9500\n",
            "Epoch 4/5\n",
            "8/8 [==============================] - 0s 2ms/step - loss: 0.5265 - accuracy: 0.9500\n",
            "Epoch 5/5\n",
            "8/8 [==============================] - 0s 3ms/step - loss: 0.4697 - accuracy: 0.8500\n",
            "4/4 [==============================] - 0s 3ms/step\n",
            "Epoch 1/5\n"
          ]
        },
        {
          "output_type": "stream",
          "name": "stderr",
          "text": [
            "/usr/local/lib/python3.10/dist-packages/scikeras/wrappers.py:915: UserWarning: ``build_fn`` will be renamed to ``model`` in a future release, at which point use of ``build_fn`` will raise an Error instead.\n",
            "  X, y = self._initialize(X, y)\n"
          ]
        },
        {
          "output_type": "stream",
          "name": "stdout",
          "text": [
            "8/8 [==============================] - 1s 3ms/step - loss: 1.2100 - accuracy: 0.5750\n",
            "Epoch 2/5\n",
            "8/8 [==============================] - 0s 3ms/step - loss: 0.9431 - accuracy: 0.6250\n",
            "Epoch 3/5\n",
            "8/8 [==============================] - 0s 3ms/step - loss: 0.8270 - accuracy: 0.7750\n",
            "Epoch 4/5\n",
            "8/8 [==============================] - 0s 3ms/step - loss: 0.7444 - accuracy: 0.7000\n",
            "Epoch 5/5\n",
            "8/8 [==============================] - 0s 3ms/step - loss: 0.6879 - accuracy: 0.6750\n",
            "4/4 [==============================] - 0s 3ms/step\n",
            "Epoch 1/5\n"
          ]
        },
        {
          "output_type": "stream",
          "name": "stderr",
          "text": [
            "/usr/local/lib/python3.10/dist-packages/scikeras/wrappers.py:915: UserWarning: ``build_fn`` will be renamed to ``model`` in a future release, at which point use of ``build_fn`` will raise an Error instead.\n",
            "  X, y = self._initialize(X, y)\n"
          ]
        },
        {
          "output_type": "stream",
          "name": "stdout",
          "text": [
            "8/8 [==============================] - 1s 3ms/step - loss: 1.0250 - accuracy: 0.3750\n",
            "Epoch 2/5\n",
            "8/8 [==============================] - 0s 3ms/step - loss: 0.9029 - accuracy: 0.5500\n",
            "Epoch 3/5\n",
            "8/8 [==============================] - 0s 3ms/step - loss: 0.7023 - accuracy: 0.7375\n",
            "Epoch 4/5\n",
            "8/8 [==============================] - 0s 3ms/step - loss: 0.5976 - accuracy: 0.7625\n",
            "Epoch 5/5\n",
            "8/8 [==============================] - 0s 3ms/step - loss: 0.5196 - accuracy: 0.9000\n",
            "4/4 [==============================] - 0s 3ms/step\n",
            "Epoch 1/5\n"
          ]
        },
        {
          "output_type": "stream",
          "name": "stderr",
          "text": [
            "/usr/local/lib/python3.10/dist-packages/scikeras/wrappers.py:915: UserWarning: ``build_fn`` will be renamed to ``model`` in a future release, at which point use of ``build_fn`` will raise an Error instead.\n",
            "  X, y = self._initialize(X, y)\n"
          ]
        },
        {
          "output_type": "stream",
          "name": "stdout",
          "text": [
            "8/8 [==============================] - 1s 3ms/step - loss: 0.9570 - accuracy: 0.5875\n",
            "Epoch 2/5\n",
            "8/8 [==============================] - 0s 3ms/step - loss: 0.7364 - accuracy: 0.7500\n",
            "Epoch 3/5\n",
            "8/8 [==============================] - 0s 3ms/step - loss: 0.6005 - accuracy: 0.6875\n",
            "Epoch 4/5\n",
            "8/8 [==============================] - 0s 3ms/step - loss: 0.5256 - accuracy: 0.8375\n",
            "Epoch 5/5\n",
            "8/8 [==============================] - 0s 3ms/step - loss: 0.4629 - accuracy: 0.8500\n",
            "4/4 [==============================] - 0s 3ms/step\n",
            "Epoch 1/5\n"
          ]
        },
        {
          "output_type": "stream",
          "name": "stderr",
          "text": [
            "/usr/local/lib/python3.10/dist-packages/scikeras/wrappers.py:915: UserWarning: ``build_fn`` will be renamed to ``model`` in a future release, at which point use of ``build_fn`` will raise an Error instead.\n",
            "  X, y = self._initialize(X, y)\n"
          ]
        },
        {
          "output_type": "stream",
          "name": "stdout",
          "text": [
            "8/8 [==============================] - 1s 3ms/step - loss: 0.9684 - accuracy: 0.5125\n",
            "Epoch 2/5\n",
            "8/8 [==============================] - 0s 3ms/step - loss: 0.7471 - accuracy: 0.6625\n",
            "Epoch 3/5\n",
            "8/8 [==============================] - 0s 3ms/step - loss: 0.5926 - accuracy: 0.7625\n",
            "Epoch 4/5\n",
            "8/8 [==============================] - 0s 3ms/step - loss: 0.4941 - accuracy: 0.9375\n",
            "Epoch 5/5\n",
            "8/8 [==============================] - 0s 3ms/step - loss: 0.4525 - accuracy: 0.7625\n",
            "4/4 [==============================] - 0s 3ms/step\n",
            "Epoch 1/5\n"
          ]
        },
        {
          "output_type": "stream",
          "name": "stderr",
          "text": [
            "/usr/local/lib/python3.10/dist-packages/scikeras/wrappers.py:915: UserWarning: ``build_fn`` will be renamed to ``model`` in a future release, at which point use of ``build_fn`` will raise an Error instead.\n",
            "  X, y = self._initialize(X, y)\n"
          ]
        },
        {
          "output_type": "stream",
          "name": "stdout",
          "text": [
            "8/8 [==============================] - 1s 3ms/step - loss: 1.1033 - accuracy: 0.4875\n",
            "Epoch 2/5\n",
            "8/8 [==============================] - 0s 3ms/step - loss: 0.6123 - accuracy: 0.6875\n",
            "Epoch 3/5\n",
            "8/8 [==============================] - 0s 3ms/step - loss: 0.4957 - accuracy: 0.6625\n",
            "Epoch 4/5\n",
            "8/8 [==============================] - 0s 2ms/step - loss: 0.3613 - accuracy: 0.9250\n",
            "Epoch 5/5\n",
            "8/8 [==============================] - 0s 2ms/step - loss: 0.3150 - accuracy: 0.9375\n",
            "4/4 [==============================] - 0s 3ms/step\n",
            "Epoch 1/5\n"
          ]
        },
        {
          "output_type": "stream",
          "name": "stderr",
          "text": [
            "/usr/local/lib/python3.10/dist-packages/scikeras/wrappers.py:915: UserWarning: ``build_fn`` will be renamed to ``model`` in a future release, at which point use of ``build_fn`` will raise an Error instead.\n",
            "  X, y = self._initialize(X, y)\n"
          ]
        },
        {
          "output_type": "stream",
          "name": "stdout",
          "text": [
            "8/8 [==============================] - 1s 5ms/step - loss: 0.8649 - accuracy: 0.6875\n",
            "Epoch 2/5\n",
            "8/8 [==============================] - 0s 4ms/step - loss: 0.5567 - accuracy: 0.7500\n",
            "Epoch 3/5\n",
            "8/8 [==============================] - 0s 3ms/step - loss: 0.3480 - accuracy: 0.9375\n",
            "Epoch 4/5\n",
            "8/8 [==============================] - 0s 3ms/step - loss: 0.2646 - accuracy: 0.9375\n",
            "Epoch 5/5\n",
            "8/8 [==============================] - 0s 4ms/step - loss: 0.2400 - accuracy: 0.9125\n",
            "4/4 [==============================] - 0s 3ms/step\n",
            "Epoch 1/5\n"
          ]
        },
        {
          "output_type": "stream",
          "name": "stderr",
          "text": [
            "/usr/local/lib/python3.10/dist-packages/scikeras/wrappers.py:915: UserWarning: ``build_fn`` will be renamed to ``model`` in a future release, at which point use of ``build_fn`` will raise an Error instead.\n",
            "  X, y = self._initialize(X, y)\n"
          ]
        },
        {
          "output_type": "stream",
          "name": "stdout",
          "text": [
            "8/8 [==============================] - 1s 4ms/step - loss: 0.9739 - accuracy: 0.5750\n",
            "Epoch 2/5\n",
            "8/8 [==============================] - 0s 3ms/step - loss: 0.6148 - accuracy: 0.8125\n",
            "Epoch 3/5\n",
            "8/8 [==============================] - 0s 4ms/step - loss: 0.4705 - accuracy: 0.8250\n",
            "Epoch 4/5\n",
            "8/8 [==============================] - 0s 4ms/step - loss: 0.3859 - accuracy: 0.8250\n",
            "Epoch 5/5\n",
            "8/8 [==============================] - 0s 4ms/step - loss: 0.3139 - accuracy: 0.9000\n",
            "4/4 [==============================] - 0s 3ms/step\n",
            "Epoch 1/5\n"
          ]
        },
        {
          "output_type": "stream",
          "name": "stderr",
          "text": [
            "/usr/local/lib/python3.10/dist-packages/scikeras/wrappers.py:915: UserWarning: ``build_fn`` will be renamed to ``model`` in a future release, at which point use of ``build_fn`` will raise an Error instead.\n",
            "  X, y = self._initialize(X, y)\n"
          ]
        },
        {
          "output_type": "stream",
          "name": "stdout",
          "text": [
            "8/8 [==============================] - 1s 3ms/step - loss: 0.9896 - accuracy: 0.5375\n",
            "Epoch 2/5\n",
            "8/8 [==============================] - 0s 3ms/step - loss: 0.4636 - accuracy: 0.8375\n",
            "Epoch 3/5\n",
            "8/8 [==============================] - 0s 3ms/step - loss: 0.3872 - accuracy: 0.7625\n",
            "Epoch 4/5\n",
            "8/8 [==============================] - 0s 2ms/step - loss: 0.2681 - accuracy: 0.8750\n",
            "Epoch 5/5\n",
            "8/8 [==============================] - 0s 2ms/step - loss: 0.1988 - accuracy: 0.9250\n",
            "4/4 [==============================] - 0s 3ms/step\n",
            "Epoch 1/5\n"
          ]
        },
        {
          "output_type": "stream",
          "name": "stderr",
          "text": [
            "/usr/local/lib/python3.10/dist-packages/scikeras/wrappers.py:915: UserWarning: ``build_fn`` will be renamed to ``model`` in a future release, at which point use of ``build_fn`` will raise an Error instead.\n",
            "  X, y = self._initialize(X, y)\n"
          ]
        },
        {
          "output_type": "stream",
          "name": "stdout",
          "text": [
            "8/8 [==============================] - 1s 3ms/step - loss: 0.9302 - accuracy: 0.4375\n",
            "Epoch 2/5\n",
            "8/8 [==============================] - 0s 3ms/step - loss: 0.4660 - accuracy: 0.7875\n",
            "Epoch 3/5\n",
            "8/8 [==============================] - 0s 3ms/step - loss: 0.3721 - accuracy: 0.7750\n",
            "Epoch 4/5\n",
            "8/8 [==============================] - 0s 3ms/step - loss: 0.2488 - accuracy: 0.9625\n",
            "Epoch 5/5\n",
            "8/8 [==============================] - 0s 2ms/step - loss: 0.1691 - accuracy: 0.9750\n",
            "4/4 [==============================] - 0s 3ms/step\n",
            "Epoch 1/5\n"
          ]
        },
        {
          "output_type": "stream",
          "name": "stderr",
          "text": [
            "/usr/local/lib/python3.10/dist-packages/scikeras/wrappers.py:915: UserWarning: ``build_fn`` will be renamed to ``model`` in a future release, at which point use of ``build_fn`` will raise an Error instead.\n",
            "  X, y = self._initialize(X, y)\n"
          ]
        },
        {
          "output_type": "stream",
          "name": "stdout",
          "text": [
            "8/8 [==============================] - 1s 3ms/step - loss: 0.9129 - accuracy: 0.5625\n",
            "Epoch 2/5\n",
            "8/8 [==============================] - 0s 3ms/step - loss: 0.4591 - accuracy: 0.8500\n",
            "Epoch 3/5\n",
            "8/8 [==============================] - 0s 3ms/step - loss: 0.3766 - accuracy: 0.7500\n",
            "Epoch 4/5\n",
            "8/8 [==============================] - 0s 2ms/step - loss: 0.3164 - accuracy: 0.8375\n",
            "Epoch 5/5\n",
            "8/8 [==============================] - 0s 2ms/step - loss: 0.2825 - accuracy: 0.8625\n",
            "4/4 [==============================] - 0s 2ms/step\n",
            "Epoch 1/5\n"
          ]
        },
        {
          "output_type": "stream",
          "name": "stderr",
          "text": [
            "/usr/local/lib/python3.10/dist-packages/scikeras/wrappers.py:915: UserWarning: ``build_fn`` will be renamed to ``model`` in a future release, at which point use of ``build_fn`` will raise an Error instead.\n",
            "  X, y = self._initialize(X, y)\n"
          ]
        },
        {
          "output_type": "stream",
          "name": "stdout",
          "text": [
            "8/8 [==============================] - 1s 4ms/step - loss: 0.9126 - accuracy: 0.5875\n",
            "Epoch 2/5\n",
            "8/8 [==============================] - 0s 3ms/step - loss: 0.4575 - accuracy: 0.8375\n",
            "Epoch 3/5\n",
            "8/8 [==============================] - 0s 3ms/step - loss: 0.3227 - accuracy: 0.9000\n",
            "Epoch 4/5\n",
            "8/8 [==============================] - 0s 3ms/step - loss: 0.2026 - accuracy: 0.9375\n",
            "Epoch 5/5\n",
            "8/8 [==============================] - 0s 3ms/step - loss: 0.1555 - accuracy: 0.9500\n",
            "4/4 [==============================] - 0s 3ms/step\n",
            "Epoch 1/5\n"
          ]
        },
        {
          "output_type": "stream",
          "name": "stderr",
          "text": [
            "/usr/local/lib/python3.10/dist-packages/scikeras/wrappers.py:915: UserWarning: ``build_fn`` will be renamed to ``model`` in a future release, at which point use of ``build_fn`` will raise an Error instead.\n",
            "  X, y = self._initialize(X, y)\n"
          ]
        },
        {
          "output_type": "stream",
          "name": "stdout",
          "text": [
            "8/8 [==============================] - 1s 3ms/step - loss: 0.9674 - accuracy: 0.5625\n",
            "Epoch 2/5\n",
            "8/8 [==============================] - 0s 4ms/step - loss: 0.5119 - accuracy: 0.8000\n",
            "Epoch 3/5\n",
            "8/8 [==============================] - 0s 3ms/step - loss: 0.2842 - accuracy: 0.9125\n",
            "Epoch 4/5\n",
            "8/8 [==============================] - 0s 2ms/step - loss: 0.1804 - accuracy: 0.9500\n",
            "Epoch 5/5\n",
            "8/8 [==============================] - 0s 3ms/step - loss: 0.0947 - accuracy: 0.9750\n",
            "4/4 [==============================] - 0s 3ms/step\n",
            "Epoch 1/5\n"
          ]
        },
        {
          "output_type": "stream",
          "name": "stderr",
          "text": [
            "/usr/local/lib/python3.10/dist-packages/scikeras/wrappers.py:915: UserWarning: ``build_fn`` will be renamed to ``model`` in a future release, at which point use of ``build_fn`` will raise an Error instead.\n",
            "  X, y = self._initialize(X, y)\n"
          ]
        },
        {
          "output_type": "stream",
          "name": "stdout",
          "text": [
            "8/8 [==============================] - 1s 3ms/step - loss: 1.0158 - accuracy: 0.4375\n",
            "Epoch 2/5\n",
            "8/8 [==============================] - 0s 3ms/step - loss: 0.5949 - accuracy: 0.7000\n",
            "Epoch 3/5\n",
            "8/8 [==============================] - 0s 3ms/step - loss: 0.3484 - accuracy: 0.9125\n",
            "Epoch 4/5\n",
            "8/8 [==============================] - 0s 3ms/step - loss: 0.3392 - accuracy: 0.8500\n",
            "Epoch 5/5\n",
            "8/8 [==============================] - 0s 2ms/step - loss: 0.4322 - accuracy: 0.7375\n",
            "4/4 [==============================] - 0s 2ms/step\n",
            "Epoch 1/5\n"
          ]
        },
        {
          "output_type": "stream",
          "name": "stderr",
          "text": [
            "/usr/local/lib/python3.10/dist-packages/scikeras/wrappers.py:915: UserWarning: ``build_fn`` will be renamed to ``model`` in a future release, at which point use of ``build_fn`` will raise an Error instead.\n",
            "  X, y = self._initialize(X, y)\n"
          ]
        },
        {
          "output_type": "stream",
          "name": "stdout",
          "text": [
            "8/8 [==============================] - 1s 2ms/step - loss: 2.3566 - accuracy: 0.3750\n",
            "Epoch 2/5\n",
            "8/8 [==============================] - 0s 3ms/step - loss: 0.5029 - accuracy: 0.7125\n",
            "Epoch 3/5\n",
            "8/8 [==============================] - 0s 2ms/step - loss: 0.3154 - accuracy: 0.8375\n",
            "Epoch 4/5\n",
            "8/8 [==============================] - 0s 3ms/step - loss: 0.1414 - accuracy: 0.9375\n",
            "Epoch 5/5\n",
            "8/8 [==============================] - 0s 2ms/step - loss: 0.2348 - accuracy: 0.9000\n",
            "4/4 [==============================] - 0s 3ms/step\n",
            "Epoch 1/5\n"
          ]
        },
        {
          "output_type": "stream",
          "name": "stderr",
          "text": [
            "/usr/local/lib/python3.10/dist-packages/scikeras/wrappers.py:915: UserWarning: ``build_fn`` will be renamed to ``model`` in a future release, at which point use of ``build_fn`` will raise an Error instead.\n",
            "  X, y = self._initialize(X, y)\n"
          ]
        },
        {
          "output_type": "stream",
          "name": "stdout",
          "text": [
            "8/8 [==============================] - 1s 3ms/step - loss: 0.9121 - accuracy: 0.6250\n",
            "Epoch 2/5\n",
            "8/8 [==============================] - 0s 3ms/step - loss: 0.4692 - accuracy: 0.8000\n",
            "Epoch 3/5\n",
            "8/8 [==============================] - 0s 3ms/step - loss: 0.3637 - accuracy: 0.8375\n",
            "Epoch 4/5\n",
            "8/8 [==============================] - 0s 3ms/step - loss: 0.2174 - accuracy: 0.8875\n",
            "Epoch 5/5\n",
            "8/8 [==============================] - 0s 3ms/step - loss: 0.2646 - accuracy: 0.8750\n",
            "4/4 [==============================] - 0s 3ms/step\n",
            "Epoch 1/5\n"
          ]
        },
        {
          "output_type": "stream",
          "name": "stderr",
          "text": [
            "/usr/local/lib/python3.10/dist-packages/scikeras/wrappers.py:915: UserWarning: ``build_fn`` will be renamed to ``model`` in a future release, at which point use of ``build_fn`` will raise an Error instead.\n",
            "  X, y = self._initialize(X, y)\n"
          ]
        },
        {
          "output_type": "stream",
          "name": "stdout",
          "text": [
            "8/8 [==============================] - 1s 3ms/step - loss: 2.5152 - accuracy: 0.4625\n",
            "Epoch 2/5\n",
            "8/8 [==============================] - 0s 3ms/step - loss: 0.7084 - accuracy: 0.6750\n",
            "Epoch 3/5\n",
            "8/8 [==============================] - 0s 2ms/step - loss: 0.5324 - accuracy: 0.7750\n",
            "Epoch 4/5\n",
            "8/8 [==============================] - 0s 3ms/step - loss: 0.2257 - accuracy: 0.9500\n",
            "Epoch 5/5\n",
            "8/8 [==============================] - 0s 3ms/step - loss: 0.1866 - accuracy: 0.9125\n",
            "4/4 [==============================] - 0s 3ms/step\n",
            "Epoch 1/5\n"
          ]
        },
        {
          "output_type": "stream",
          "name": "stderr",
          "text": [
            "/usr/local/lib/python3.10/dist-packages/scikeras/wrappers.py:915: UserWarning: ``build_fn`` will be renamed to ``model`` in a future release, at which point use of ``build_fn`` will raise an Error instead.\n",
            "  X, y = self._initialize(X, y)\n"
          ]
        },
        {
          "output_type": "stream",
          "name": "stdout",
          "text": [
            "8/8 [==============================] - 1s 4ms/step - loss: 4.4549 - accuracy: 0.3875\n",
            "Epoch 2/5\n",
            "8/8 [==============================] - 0s 4ms/step - loss: 0.4374 - accuracy: 0.7875\n",
            "Epoch 3/5\n",
            "8/8 [==============================] - 0s 4ms/step - loss: 0.5304 - accuracy: 0.8000\n",
            "Epoch 4/5\n",
            "8/8 [==============================] - 0s 5ms/step - loss: 0.1417 - accuracy: 0.9625\n",
            "Epoch 5/5\n",
            "8/8 [==============================] - 0s 3ms/step - loss: 0.1177 - accuracy: 0.9375\n",
            "4/4 [==============================] - 0s 3ms/step\n",
            "Epoch 1/5\n"
          ]
        },
        {
          "output_type": "stream",
          "name": "stderr",
          "text": [
            "/usr/local/lib/python3.10/dist-packages/scikeras/wrappers.py:915: UserWarning: ``build_fn`` will be renamed to ``model`` in a future release, at which point use of ``build_fn`` will raise an Error instead.\n",
            "  X, y = self._initialize(X, y)\n"
          ]
        },
        {
          "output_type": "stream",
          "name": "stdout",
          "text": [
            "8/8 [==============================] - 1s 4ms/step - loss: 2.7549 - accuracy: 0.4875\n",
            "Epoch 2/5\n",
            "8/8 [==============================] - 0s 2ms/step - loss: 0.4697 - accuracy: 0.8250\n",
            "Epoch 3/5\n",
            "8/8 [==============================] - 0s 3ms/step - loss: 0.3580 - accuracy: 0.8625\n",
            "Epoch 4/5\n",
            "8/8 [==============================] - 0s 2ms/step - loss: 0.0322 - accuracy: 0.9875\n",
            "Epoch 5/5\n",
            "8/8 [==============================] - 0s 3ms/step - loss: 0.0936 - accuracy: 0.9625\n",
            "4/4 [==============================] - 0s 3ms/step\n",
            "Epoch 1/5\n"
          ]
        },
        {
          "output_type": "stream",
          "name": "stderr",
          "text": [
            "/usr/local/lib/python3.10/dist-packages/scikeras/wrappers.py:915: UserWarning: ``build_fn`` will be renamed to ``model`` in a future release, at which point use of ``build_fn`` will raise an Error instead.\n",
            "  X, y = self._initialize(X, y)\n"
          ]
        },
        {
          "output_type": "stream",
          "name": "stdout",
          "text": [
            "8/8 [==============================] - 1s 3ms/step - loss: 3.2113 - accuracy: 0.3250\n",
            "Epoch 2/5\n",
            "8/8 [==============================] - 0s 3ms/step - loss: 0.8013 - accuracy: 0.5500\n",
            "Epoch 3/5\n",
            "8/8 [==============================] - 0s 3ms/step - loss: 0.5147 - accuracy: 0.6375\n",
            "Epoch 4/5\n",
            "8/8 [==============================] - 0s 3ms/step - loss: 0.4684 - accuracy: 0.6750\n",
            "Epoch 5/5\n",
            "8/8 [==============================] - 0s 3ms/step - loss: 0.4727 - accuracy: 0.6125\n",
            "4/4 [==============================] - 0s 3ms/step\n",
            "Epoch 1/5\n"
          ]
        },
        {
          "output_type": "stream",
          "name": "stderr",
          "text": [
            "/usr/local/lib/python3.10/dist-packages/scikeras/wrappers.py:915: UserWarning: ``build_fn`` will be renamed to ``model`` in a future release, at which point use of ``build_fn`` will raise an Error instead.\n",
            "  X, y = self._initialize(X, y)\n"
          ]
        },
        {
          "output_type": "stream",
          "name": "stdout",
          "text": [
            "8/8 [==============================] - 1s 3ms/step - loss: 5.8038 - accuracy: 0.4500\n",
            "Epoch 2/5\n",
            "8/8 [==============================] - 0s 3ms/step - loss: 0.7370 - accuracy: 0.5875\n",
            "Epoch 3/5\n",
            "8/8 [==============================] - 0s 3ms/step - loss: 0.5081 - accuracy: 0.6500\n",
            "Epoch 4/5\n",
            "8/8 [==============================] - 0s 3ms/step - loss: 0.4769 - accuracy: 0.7125\n",
            "Epoch 5/5\n",
            "8/8 [==============================] - 0s 3ms/step - loss: 0.8424 - accuracy: 0.6625\n",
            "4/4 [==============================] - 0s 3ms/step\n",
            "Epoch 1/5\n"
          ]
        },
        {
          "output_type": "stream",
          "name": "stderr",
          "text": [
            "/usr/local/lib/python3.10/dist-packages/scikeras/wrappers.py:915: UserWarning: ``build_fn`` will be renamed to ``model`` in a future release, at which point use of ``build_fn`` will raise an Error instead.\n",
            "  X, y = self._initialize(X, y)\n"
          ]
        },
        {
          "output_type": "stream",
          "name": "stdout",
          "text": [
            "8/8 [==============================] - 1s 3ms/step - loss: 5.0414 - accuracy: 0.4125\n",
            "Epoch 2/5\n",
            "8/8 [==============================] - 0s 3ms/step - loss: 0.6422 - accuracy: 0.6375\n",
            "Epoch 3/5\n",
            "8/8 [==============================] - 0s 3ms/step - loss: 0.5680 - accuracy: 0.6625\n",
            "Epoch 4/5\n",
            "8/8 [==============================] - 0s 3ms/step - loss: 0.4948 - accuracy: 0.6500\n",
            "Epoch 5/5\n",
            "8/8 [==============================] - 0s 3ms/step - loss: 0.4828 - accuracy: 0.6750\n",
            "4/4 [==============================] - 0s 3ms/step\n",
            "Epoch 1/5\n"
          ]
        },
        {
          "output_type": "stream",
          "name": "stderr",
          "text": [
            "/usr/local/lib/python3.10/dist-packages/scikeras/wrappers.py:915: UserWarning: ``build_fn`` will be renamed to ``model`` in a future release, at which point use of ``build_fn`` will raise an Error instead.\n",
            "  X, y = self._initialize(X, y)\n"
          ]
        },
        {
          "output_type": "stream",
          "name": "stdout",
          "text": [
            "8/8 [==============================] - 1s 3ms/step - loss: 10.2358 - accuracy: 0.2375\n",
            "Epoch 2/5\n",
            "8/8 [==============================] - 0s 4ms/step - loss: 1.2386 - accuracy: 0.2875\n",
            "Epoch 3/5\n",
            "8/8 [==============================] - 0s 3ms/step - loss: 1.1810 - accuracy: 0.2625\n",
            "Epoch 4/5\n",
            "8/8 [==============================] - 0s 3ms/step - loss: 1.1283 - accuracy: 0.3125\n",
            "Epoch 5/5\n",
            "8/8 [==============================] - 0s 3ms/step - loss: 1.1042 - accuracy: 0.3500\n",
            "4/4 [==============================] - 0s 3ms/step\n",
            "Epoch 1/5\n"
          ]
        },
        {
          "output_type": "stream",
          "name": "stderr",
          "text": [
            "/usr/local/lib/python3.10/dist-packages/scikeras/wrappers.py:915: UserWarning: ``build_fn`` will be renamed to ``model`` in a future release, at which point use of ``build_fn`` will raise an Error instead.\n",
            "  X, y = self._initialize(X, y)\n"
          ]
        },
        {
          "output_type": "stream",
          "name": "stdout",
          "text": [
            "12/12 [==============================] - 1s 2ms/step - loss: 0.7408 - accuracy: 0.6333\n",
            "Epoch 2/5\n",
            "12/12 [==============================] - 0s 2ms/step - loss: 0.3822 - accuracy: 0.8417\n",
            "Epoch 3/5\n",
            "12/12 [==============================] - 0s 3ms/step - loss: 0.2329 - accuracy: 0.9417\n",
            "Epoch 4/5\n",
            "12/12 [==============================] - 0s 3ms/step - loss: 0.1524 - accuracy: 0.9500\n",
            "Epoch 5/5\n",
            "12/12 [==============================] - 0s 2ms/step - loss: 0.1973 - accuracy: 0.9083\n",
            "Best Parameters: {'learning_rate': 0.01, 'num_units': 64}\n",
            "Best Accuracy: 0.9416666666666668\n",
            "Epoch 1/30\n"
          ]
        },
        {
          "output_type": "stream",
          "name": "stderr",
          "text": [
            "/usr/local/lib/python3.10/dist-packages/scikeras/wrappers.py:915: UserWarning: ``build_fn`` will be renamed to ``model`` in a future release, at which point use of ``build_fn`` will raise an Error instead.\n",
            "  X, y = self._initialize(X, y)\n"
          ]
        },
        {
          "output_type": "stream",
          "name": "stdout",
          "text": [
            "4/4 [==============================] - 1s 5ms/step - loss: 1.1361 - accuracy: 0.4500\n",
            "Epoch 2/30\n",
            "4/4 [==============================] - 0s 4ms/step - loss: 0.7536 - accuracy: 0.6583\n",
            "Epoch 3/30\n",
            "4/4 [==============================] - 0s 4ms/step - loss: 0.5770 - accuracy: 0.7167\n",
            "Epoch 4/30\n",
            "4/4 [==============================] - 0s 4ms/step - loss: 0.4712 - accuracy: 0.6917\n",
            "Epoch 5/30\n",
            "4/4 [==============================] - 0s 4ms/step - loss: 0.3804 - accuracy: 0.8667\n",
            "Epoch 6/30\n",
            "4/4 [==============================] - 0s 4ms/step - loss: 0.2980 - accuracy: 0.9667\n",
            "Epoch 7/30\n",
            "4/4 [==============================] - 0s 4ms/step - loss: 0.2815 - accuracy: 0.9250\n",
            "Epoch 8/30\n",
            "4/4 [==============================] - 0s 4ms/step - loss: 0.2358 - accuracy: 0.9167\n",
            "Epoch 9/30\n",
            "4/4 [==============================] - 0s 4ms/step - loss: 0.1975 - accuracy: 0.9500\n",
            "Epoch 10/30\n",
            "4/4 [==============================] - 0s 4ms/step - loss: 0.1875 - accuracy: 0.9333\n",
            "Epoch 11/30\n",
            "4/4 [==============================] - 0s 4ms/step - loss: 0.1645 - accuracy: 0.9583\n",
            "Epoch 12/30\n",
            "4/4 [==============================] - 0s 4ms/step - loss: 0.1423 - accuracy: 0.9417\n",
            "Epoch 13/30\n",
            "4/4 [==============================] - 0s 4ms/step - loss: 0.1294 - accuracy: 0.9583\n",
            "Epoch 14/30\n",
            "4/4 [==============================] - 0s 4ms/step - loss: 0.1598 - accuracy: 0.9333\n",
            "Epoch 15/30\n",
            "4/4 [==============================] - 0s 4ms/step - loss: 0.1153 - accuracy: 0.9500\n",
            "Epoch 16/30\n",
            "4/4 [==============================] - 0s 4ms/step - loss: 0.1070 - accuracy: 0.9417\n",
            "Epoch 17/30\n",
            "4/4 [==============================] - 0s 4ms/step - loss: 0.1122 - accuracy: 0.9667\n",
            "Epoch 18/30\n",
            "4/4 [==============================] - 0s 4ms/step - loss: 0.1613 - accuracy: 0.9250\n",
            "Epoch 19/30\n",
            "4/4 [==============================] - 0s 4ms/step - loss: 0.1509 - accuracy: 0.9500\n",
            "Epoch 20/30\n",
            "4/4 [==============================] - 0s 5ms/step - loss: 0.1133 - accuracy: 0.9667\n",
            "Epoch 21/30\n",
            "4/4 [==============================] - 0s 4ms/step - loss: 0.1392 - accuracy: 0.9417\n",
            "Epoch 22/30\n",
            "4/4 [==============================] - 0s 5ms/step - loss: 0.0778 - accuracy: 0.9667\n",
            "Epoch 23/30\n",
            "4/4 [==============================] - 0s 4ms/step - loss: 0.0960 - accuracy: 0.9583\n",
            "Epoch 24/30\n",
            "4/4 [==============================] - 0s 4ms/step - loss: 0.0705 - accuracy: 0.9833\n",
            "Epoch 25/30\n",
            "4/4 [==============================] - 0s 4ms/step - loss: 0.0843 - accuracy: 0.9583\n",
            "Epoch 26/30\n",
            "4/4 [==============================] - 0s 4ms/step - loss: 0.0731 - accuracy: 0.9667\n",
            "Epoch 27/30\n",
            "4/4 [==============================] - 0s 4ms/step - loss: 0.0774 - accuracy: 0.9500\n",
            "Epoch 28/30\n",
            "4/4 [==============================] - 0s 4ms/step - loss: 0.0670 - accuracy: 0.9833\n",
            "Epoch 29/30\n",
            "4/4 [==============================] - 0s 4ms/step - loss: 0.0698 - accuracy: 0.9750\n",
            "Epoch 30/30\n",
            "4/4 [==============================] - 0s 4ms/step - loss: 0.0673 - accuracy: 0.9667\n",
            "3/3 [==============================] - 0s 4ms/step\n",
            "Test Accuracy: 1.0\n"
          ]
        }
      ],
      "source": [
        "import numpy as np\n",
        "import pandas as pd\n",
        "import tensorflow as tf\n",
        "from tensorflow import keras\n",
        "from sklearn.model_selection import train_test_split, GridSearchCV\n",
        "from scikeras.wrappers import KerasClassifier\n",
        "from sklearn.datasets import load_iris\n",
        "\n",
        "\n",
        "# Load the Iris dataset from scikit-learn\n",
        "data = load_iris()\n",
        "X = data.data  # Features\n",
        "y = data.target  # Target labels\n",
        "\n",
        "\n",
        "# Split the data into training and testing sets\n",
        "X_train, X_test, y_train, y_test = train_test_split(X, y, test_size=0.2, random_state=42)\n",
        "\n",
        "\n",
        "# Define a function to create your neural network model\n",
        "def create_model(learning_rate=0.01, num_units=64):\n",
        "    model = keras.Sequential([\n",
        "        keras.layers.Dense(units=num_units, activation='relu', input_shape=(X_train.shape[1],)),\n",
        "        keras.layers.Dense(units=num_units, activation='relu'),\n",
        "        keras.layers.Dense(units=3, activation='softmax')  # Multi-class classification\n",
        "    ])\n",
        "    optimizer = keras.optimizers.Adam(learning_rate=learning_rate)\n",
        "    model.compile(optimizer=optimizer, loss='sparse_categorical_crossentropy', metrics=['accuracy'])\n",
        "    return model\n",
        "\n",
        "\n",
        "# Create a KerasClassifier with your model function\n",
        "model = KerasClassifier(learning_rate=0.01,num_units=64,build_fn=create_model, epochs=5, batch_size=10)\n",
        "\n",
        "# Define the hyperparameters you want to tune\n",
        "param_grid = {\n",
        "    'learning_rate': [0.001, 0.01, 0.1],\n",
        "    'num_units': [32, 64, 128]\n",
        "}\n",
        "\n",
        "# Perform hyperparameter tuning using GridSearchCV\n",
        "grid_search = GridSearchCV(estimator=model, param_grid=param_grid, cv=3, verbose=1)\n",
        "grid_result = grid_search.fit(X_train, y_train)\n",
        "\n",
        "# Print the best hyperparameters and corresponding performance\n",
        "print(f\"Best Parameters: {grid_result.best_params_}\")\n",
        "print(f\"Best Accuracy: {grid_result.best_score_}\")\n",
        "\n",
        "# Train your final model with the best hyperparameters\n",
        "best_model = grid_result.best_estimator_\n",
        "best_model.fit(X_train, y_train, epochs=30, batch_size=32)\n",
        "\n",
        "\n",
        "# Evaluate the final model on the test set\n",
        "test_accuracy = best_model.score(X_test, y_test)\n",
        "print(f\"Test Accuracy: {test_accuracy}\")\n"
      ]
    }
  ]
}